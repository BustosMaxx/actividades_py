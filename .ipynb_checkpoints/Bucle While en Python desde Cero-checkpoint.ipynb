{
 "cells": [
  {
   "cell_type": "markdown",
   "metadata": {},
   "source": [
    "**Reto 1:** Colocar un contador que vaya de 10 a 0 y al final imprima \"Fuego\"\n",
    "\n",
    "**Reto 2:** Entre todos los num del 1 al 100 contar aquellos que sean múltiplos de 4, y al final mostrar la suma de todos ellos.\n",
    "\n",
    "**Reto 3:** Crear un programa que muestre el factorial de un núm."
   ]
  },
  {
   "cell_type": "code",
   "execution_count": null,
   "metadata": {},
   "outputs": [],
   "source": [
    "print(\"/\" * 30, \"RETO 1\", \"/\" * 30 )\n",
    "for i in range(10,-1,-1):\n",
    "    print(i)\n",
    "print(\"Fuego!!!\")\n",
    "print(\"/\" * 30, \"/\" * 30 )"
   ]
  },
  {
   "cell_type": "code",
   "execution_count": null,
   "metadata": {},
   "outputs": [],
   "source": [
    "print(\"/\" * 30, \"RETO 2\", \"/\" * 30 )\n",
    "cont=0\n",
    "suma=0\n",
    "for i in range(1,101,1):\n",
    "    if i%4==0:\n",
    "        cont+=1\n",
    "        suma+=i\n",
    "print(f\"Hay {cont} multiplos de 4 y la suma de ellos es {suma}\")\n",
    "print(\"/\" * 30, \"/\" * 30 )"
   ]
  },
  {
   "cell_type": "code",
   "execution_count": 5,
   "metadata": {},
   "outputs": [
    {
     "name": "stdout",
     "output_type": "stream",
     "text": [
      "Ingrese un número: 7\n",
      "7!= 7 X  6 X  5 X  4 X  3 X  2 X  1= 5040\n"
     ]
    }
   ],
   "source": [
    "num = int(input(\"Ingrese un número: \"))\n",
    "print(f\"{num}!=\", end= ' ')\n",
    "factorial=1\n",
    "while num>1:\n",
    "    print(f\"{num} X \", end=' ')\n",
    "    factorial = factorial * (num)\n",
    "    num-=1\n",
    "print(\"1=\",factorial)"
   ]
  },
  {
   "cell_type": "code",
   "execution_count": null,
   "metadata": {},
   "outputs": [],
   "source": []
  }
 ],
 "metadata": {
  "kernelspec": {
   "display_name": "Python 3",
   "language": "python",
   "name": "python3"
  },
  "language_info": {
   "codemirror_mode": {
    "name": "ipython",
    "version": 3
   },
   "file_extension": ".py",
   "mimetype": "text/x-python",
   "name": "python",
   "nbconvert_exporter": "python",
   "pygments_lexer": "ipython3",
   "version": "3.7.3"
  }
 },
 "nbformat": 4,
 "nbformat_minor": 2
}
