{
 "cells": [
  {
   "cell_type": "markdown",
   "metadata": {},
   "source": [
    "**Reto 1:** Crear un scrip en Python que pida el nombre de usuario y posteriormente muestre en pantalla un mensaje de bienvenida al curso de Python del canal \"Control Automático Educación\"\n"
   ]
  },
  {
   "cell_type": "code",
   "execution_count": null,
   "metadata": {},
   "outputs": [],
   "source": [
    "nombre = input(\"Ingrese su nombre: \")\n",
    "print(\"Bienvenido \" + nombre + \" al curso de Python del canal Control Automático Educación\")"
   ]
  },
  {
   "cell_type": "markdown",
   "metadata": {},
   "source": [
    "**Reto 2:** Crear un scrip que solicite la fecha actual(Día, mes, año)."
   ]
  },
  {
   "cell_type": "code",
   "execution_count": null,
   "metadata": {},
   "outputs": [],
   "source": [
    "año = input(\"Ingrese el año: \")\n",
    "mes = input(\"Ingrese el mes: \")\n",
    "dia = input(\"Ingrese el día: \")\n",
    "print(\"Hoy es \" + dia + \" de \" + mes + \" del año \" + año)"
   ]
  },
  {
   "cell_type": "markdown",
   "metadata": {},
   "source": [
    "**Reto 3:** Crear un script que solicite al usuario dos número. Luego se debe mostrar la suma de ambos."
   ]
  },
  {
   "cell_type": "code",
   "execution_count": null,
   "metadata": {},
   "outputs": [],
   "source": [
    "num_1 = int(input(\"ingrese el primer número: \"))\n",
    "num_2 = int(input(\"Ingrese el segundo número: \"))\n",
    "print(\"El resultado es \" , num_1+num_2)"
   ]
  },
  {
   "cell_type": "code",
   "execution_count": null,
   "metadata": {},
   "outputs": [],
   "source": []
  }
 ],
 "metadata": {
  "kernelspec": {
   "display_name": "Python 3",
   "language": "python",
   "name": "python3"
  },
  "language_info": {
   "codemirror_mode": {
    "name": "ipython",
    "version": 3
   },
   "file_extension": ".py",
   "mimetype": "text/x-python",
   "name": "python",
   "nbconvert_exporter": "python",
   "pygments_lexer": "ipython3",
   "version": "3.7.3"
  }
 },
 "nbformat": 4,
 "nbformat_minor": 2
}
