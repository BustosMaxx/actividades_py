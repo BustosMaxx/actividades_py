{
 "cells": [
  {
   "cell_type": "markdown",
   "metadata": {},
   "source": [
    "Solicitar ingresar un nombre.\n",
    "1)Devolver todo el nombre en mayúscula\n",
    "2)Devolver todo el nombre en minúscula\n",
    "3)Contar la cantidad de caracteres sin espacios\n",
    "4)Devolver el primer nombre."
   ]
  },
  {
   "cell_type": "code",
   "execution_count": 6,
   "metadata": {},
   "outputs": [
    {
     "name": "stdout",
     "output_type": "stream",
     "text": [
      "Ingrese su nombre completo:                  Maxi   Miguel   Bustos\n",
      "//////////////////////////////////////////////////////////////////////////////////////////\n",
      "1)Nombre en mayúscula:  MAXI   MIGUEL   BUSTOS\n",
      "2)Nombre en minúscula:  maxi   miguel   bustos\n",
      "3)La cantidad de caracteres sin espacio es:  16\n",
      "4)El primer nombre es:  Maxi\n"
     ]
    }
   ],
   "source": [
    "nombre = input(\"Ingrese su nombre completo: \")\n",
    "print(\"/\" * 90)\n",
    "nombre = nombre.strip()#quita los espacios inecesarios\n",
    "print(\"1)Nombre en mayúscula: \", nombre.upper())\n",
    "print(\"2)Nombre en minúscula: \", nombre.lower())\n",
    "print(\"3)La cantidad de caracteres sin espacio es: \", len(nombre) - nombre.count(\" \"))\n",
    "nombre_aux = nombre.split(\" \")\n",
    "print(\"4)El primer nombre es: \", nombre_aux[0])"
   ]
  },
  {
   "cell_type": "code",
   "execution_count": null,
   "metadata": {},
   "outputs": [],
   "source": []
  },
  {
   "cell_type": "code",
   "execution_count": null,
   "metadata": {},
   "outputs": [],
   "source": []
  }
 ],
 "metadata": {
  "kernelspec": {
   "display_name": "Python 3",
   "language": "python",
   "name": "python3"
  },
  "language_info": {
   "codemirror_mode": {
    "name": "ipython",
    "version": 3
   },
   "file_extension": ".py",
   "mimetype": "text/x-python",
   "name": "python",
   "nbconvert_exporter": "python",
   "pygments_lexer": "ipython3",
   "version": "3.7.3"
  }
 },
 "nbformat": 4,
 "nbformat_minor": 2
}
