{
 "cells": [
  {
   "cell_type": "code",
   "execution_count": 2,
   "metadata": {},
   "outputs": [
    {
     "name": "stdout",
     "output_type": "stream",
     "text": [
      "------------------------------------------------------------\n",
      "¿Cuanto años tiene tu computadora?: 2\n",
      "Tu computadora es vieja\n",
      "Debes cambiarla\n",
      "------------------------------------------------------------\n"
     ]
    }
   ],
   "source": [
    "print(\"-\"*60)\n",
    "a = int(input(\"¿Cuanto años tiene tu computadora?: \"))\n",
    "if a < 2 and a > 0:\n",
    "    print(\"Tu computadora es nueva\")\n",
    "    print(\"Puedes seguir usandola\")\n",
    "elif a < 0:\n",
    "    print(\"No puedes ingresar números negativos\")\n",
    "else:\n",
    "    print(\"Tu computadora es vieja\")\n",
    "    print(\"Debes cambiarla\")\n",
    "print(\"-\" * 60)"
   ]
  },
  {
   "cell_type": "markdown",
   "metadata": {},
   "source": []
  },
  {
   "cell_type": "markdown",
   "metadata": {},
   "source": []
  }
 ],
 "metadata": {
  "kernelspec": {
   "display_name": "Python 3",
   "language": "python",
   "name": "python3"
  },
  "language_info": {
   "codemirror_mode": {
    "name": "ipython",
    "version": 3
   },
   "file_extension": ".py",
   "mimetype": "text/x-python",
   "name": "python",
   "nbconvert_exporter": "python",
   "pygments_lexer": "ipython3",
   "version": "3.7.3"
  }
 },
 "nbformat": 4,
 "nbformat_minor": 2
}
