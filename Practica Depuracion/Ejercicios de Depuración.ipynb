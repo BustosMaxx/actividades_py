{
 "cells": [
  {
   "cell_type": "markdown",
   "metadata": {},
   "source": [
    "# Ejercicio 1\n",
    "\n",
    "Corregir los errores sintácticos del siguiente programa:"
   ]
  },
  {
   "cell_type": "code",
   "execution_count": 5,
   "metadata": {},
   "outputs": [
    {
     "name": "stdout",
     "output_type": "stream",
     "text": [
      "Introduce la contraseña: sesamo\n",
      "Pasa\n"
     ]
    }
   ],
   "source": [
    "contraseña = input('Introduce la contraseña: ')\n",
    "if contraseña in ['sesamo']:\n",
    "    print('Pasa')\n",
    "else:\n",
    "    print('No pasa')"
   ]
  },
  {
   "cell_type": "markdown",
   "metadata": {},
   "source": [
    "# Ejercicio 2\n",
    "\n",
    "Detectar y corregir los errores del siguiente programa que aplica el iva a una factura:"
   ]
  },
  {
   "cell_type": "code",
   "execution_count": 16,
   "metadata": {},
   "outputs": [
    {
     "name": "stdout",
     "output_type": "stream",
     "text": [
      "Introduce la base imponible de la factura: 10\n",
      "100\n"
     ]
    }
   ],
   "source": [
    "base = int(input('Introduce la base imponible de la factura: '))\n",
    "iva = 10\n",
    "print(aplica_iva(base, iva))\n",
    "\n",
    "def aplica_iva(base, iva = 21):\n",
    "    base = base * iva\n",
    "    return base "
   ]
  },
  {
   "cell_type": "markdown",
   "metadata": {},
   "source": [
    "# Ejercicio 3\n",
    "\n",
    "Detectar y corregir los errores del siguiente programa que calcula el producto escalar de dos vectores:"
   ]
  },
  {
   "cell_type": "code",
   "execution_count": 26,
   "metadata": {},
   "outputs": [
    {
     "name": "stdout",
     "output_type": "stream",
     "text": [
      "32\n"
     ]
    }
   ],
   "source": [
    "u = (1, 2, 3)\n",
    "v = (4, 5, 6)\n",
    "\n",
    "def producto_escalar(u, v):\n",
    "    j=0\n",
    "    resultado = []\n",
    "    for i in u:\n",
    "        resultado.append(v[j] * i)\n",
    "        j += 1\n",
    "    \n",
    "    return sum(resultado)\n",
    "\n",
    "print(producto_escalar(u, v))"
   ]
  },
  {
   "cell_type": "markdown",
   "metadata": {},
   "source": [
    "# Ejercicio 4\n",
    "\n",
    "Detectar y corregir los errores del siguiente programa que devuelve y elimina el teléfono de un listín telefónico a través del nombre del usuario:"
   ]
  },
  {
   "cell_type": "code",
   "execution_count": 33,
   "metadata": {},
   "outputs": [
    {
     "name": "stdout",
     "output_type": "stream",
     "text": [
      "El usuario no existe\n"
     ]
    }
   ],
   "source": [
    "listin = {'Juan':123456789, 'Pedro':987654321}\n",
    "\n",
    "def elimina(listin, usuario):\n",
    "    try:\n",
    "        del listin[usuario]\n",
    "    except KeyError:\n",
    "        return \"El usuario no existe\"\n",
    "    return(\"se elimino a \" + usuario)\n",
    "\n",
    "print(elimina(listin, 'Pablo'))"
   ]
  },
  {
   "cell_type": "markdown",
   "metadata": {},
   "source": [
    "# Ejercicio 5\n",
    "\n",
    "Detectar y corregir los errores del siguiente programa que multiplica dos matrices:"
   ]
  },
  {
   "cell_type": "code",
   "execution_count": 45,
   "metadata": {},
   "outputs": [
    {
     "name": "stdout",
     "output_type": "stream",
     "text": [
      "([22, 28], [14, 20])\n"
     ]
    }
   ],
   "source": [
    "# cuando se arma un vector con parentesis se crea una tupla\n",
    "a = ((1, 2, 3),\n",
    "     (3, 2, 1))\n",
    "b = ((1, 2),\n",
    "     (3, 4),\n",
    "     (5, 6))\n",
    "# nXm * mXn = nXn\n",
    "def producto(a, b):\n",
    "    producto = []\n",
    "    for i in range(0,len(a)):\n",
    "        fila = []\n",
    "        for j in range(0,len(b[0])):\n",
    "            suma = 0\n",
    "            for k in range(0,len(a[0])):\n",
    "                suma += a[i][k] * b[k][j]\n",
    "            fila.append(suma)\n",
    "        producto.append(fila)\n",
    "    return tuple(producto)\n",
    "\n",
    "print(producto(a, b))"
   ]
  },
  {
   "cell_type": "code",
   "execution_count": null,
   "metadata": {},
   "outputs": [],
   "source": []
  }
 ],
 "metadata": {
  "kernelspec": {
   "display_name": "Python 3",
   "language": "python",
   "name": "python3"
  },
  "language_info": {
   "codemirror_mode": {
    "name": "ipython",
    "version": 3
   },
   "file_extension": ".py",
   "mimetype": "text/x-python",
   "name": "python",
   "nbconvert_exporter": "python",
   "pygments_lexer": "ipython3",
   "version": "3.7.3"
  }
 },
 "nbformat": 4,
 "nbformat_minor": 2
}
