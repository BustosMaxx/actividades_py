{
 "cells": [
  {
   "cell_type": "code",
   "execution_count": 1,
   "metadata": {},
   "outputs": [],
   "source": [
    "import matplotlib.pyplot as plt\n",
    "import pandas as pd"
   ]
  },
  {
   "cell_type": "code",
   "execution_count": 2,
   "metadata": {},
   "outputs": [],
   "source": [
    "df_logins = pd.read_csv(\"VPN_Logins_Fallidos-2021-09-02.csv\")"
   ]
  },
  {
   "cell_type": "markdown",
   "metadata": {},
   "source": [
    "* La primer columna \"_time \" tiene valores compuestos, con lo cual los descompongo en varias columnas"
   ]
  },
  {
   "cell_type": "code",
   "execution_count": 3,
   "metadata": {},
   "outputs": [],
   "source": [
    "s_time = df_logins[\"_time\"].apply(str.split) #Descompongo el campo \"fecha\" en una serie de listas\n",
    "\n",
    "# Armo un dataframe con el campo fecha:\n",
    "lista_series = []\n",
    "for i in range(0, s_time.shape[0]):\n",
    "    lista_series.append(s_time[i])\n",
    "\n",
    "df_time = pd.DataFrame(lista_series, columns=[\"Dia\", \"Mes\", \"Dia_num\", \"Hora\", \"Año\"])\n",
    "\n",
    "df_logins = pd.concat([df_time, df_logins], axis= 1) #Concateno los dos dataframe\n",
    "\n",
    "del df_logins[\"_time\"] # elimino la columna compuesta\n",
    "#print(df_logins.head(10))"
   ]
  },
  {
   "cell_type": "code",
   "execution_count": 5,
   "metadata": {},
   "outputs": [
    {
     "data": {
      "image/png": "[encoded data removed]",
      "text/plain": [
       "<Figure size 432x288 with 1 Axes>"
      ]
     },
     "metadata": {
      "needs_background": "light"
     },
     "output_type": "display_data"
    },
    {
     "data": {
      "image/png": "[encoded data removed]",
      "text/plain": [
       "<Figure size 432x288 with 1 Axes>"
      ]
     },
     "metadata": {
      "needs_background": "light"
     },
     "output_type": "display_data"
    }
   ],
   "source": [
    "\n",
    "fig, ax = plt.subplots()\n",
    "df_logins.plot(kind=\"hist\", x = \"Dia_num\")\n",
    "plt.show()"
   ]
  },
  {
   "cell_type": "code",
   "execution_count": 6,
   "metadata": {},
   "outputs": [
    {
     "data": {
      "text/plain": [
       "0       31\n",
       "1       31\n",
       "2       31\n",
       "3       31\n",
       "4       31\n",
       "        ..\n",
       "7016     2\n",
       "7017     2\n",
       "7018     2\n",
       "7019     2\n",
       "7020     1\n",
       "Name: Dia_num, Length: 7021, dtype: object"
      ]
     },
     "execution_count": 6,
     "metadata": {},
     "output_type": "execute_result"
    }
   ],
   "source": [
    "df_logins[\"Dia_num\"]"
   ]
  },
  {
   "cell_type": "code",
   "execution_count": 25,
   "metadata": {},
   "outputs": [
    {
     "name": "stdout",
     "output_type": "stream",
     "text": [
      "         accion  logdesc\n",
      "Dia_num                 \n",
      "1             1        1\n",
      "10           11       11\n",
      "11            4        4\n",
      "12            6        6\n",
      "13           11       11\n",
      "14            1        1\n",
      "15            1        1\n",
      "16            2        2\n",
      "17            5        5\n",
      "18           14       14\n",
      "19            7        7\n",
      "2            23       23\n",
      "20            6        6\n",
      "21            3        3\n",
      "22         2772     2772\n",
      "23         1336     1336\n",
      "24         1144     1144\n",
      "25         1057     1057\n",
      "26          491      491\n",
      "27           12       12\n",
      "28            2        2\n",
      "29            3        3\n",
      "3            17       17\n",
      "30            8        8\n",
      "31           23       23\n",
      "4            16       16\n",
      "5             8        8\n",
      "6            13       13\n",
      "7             2        2\n",
      "9            22       22\n"
     ]
    }
   ],
   "source": [
    "print(df_logins.groupby(\"Dia_num\").count()[[\"accion\",\"logdesc\"]])"
   ]
  },
  {
   "cell_type": "code",
   "execution_count": 11,
   "metadata": {},
   "outputs": [],
   "source": [
    "y = df_logins.groupby(\"Dia_num\").count()[\"logdesc\"]"
   ]
  },
  {
   "cell_type": "code",
   "execution_count": 14,
   "metadata": {},
   "outputs": [
    {
     "data": {
      "text/plain": [
       "30"
      ]
     },
     "execution_count": 14,
     "metadata": {},
     "output_type": "execute_result"
    }
   ],
   "source": [
    "x.shape\n",
    "x.size"
   ]
  },
  {
   "cell_type": "code",
   "execution_count": 70,
   "metadata": {},
   "outputs": [
    {
     "data": {
      "image/png": "[encoded data removed]",
      "text/plain": [
       "<Figure size 432x288 with 1 Axes>"
      ]
     },
     "metadata": {
      "needs_background": "light"
     },
     "output_type": "display_data"
    }
   ],
   "source": [
    "dia = df_logins[\"Dia_num\"]\n",
    "fig, ax2 = plt.subplots()\n",
    "ax2.hist(dia, 60)\n",
    "ax2.set_xlabel(\"time\")\n",
    "ax2.set_ylabel(\"ocurrencia x día\")\n",
    "#ax2.set_xlim([3,10])\n",
    "plt.show()"
   ]
  },
  {
   "cell_type": "code",
   "execution_count": 36,
   "metadata": {},
   "outputs": [
    {
     "data": {
      "image/png": "[encoded data removed]",
      "text/plain": [
       "<Figure size 432x288 with 1 Axes>"
      ]
     },
     "metadata": {
      "needs_background": "light"
     },
     "output_type": "display_data"
    }
   ],
   "source": [
    "#df_logins.plot.hist(kind=\"hist\", x = \"Dia_num\")\n",
    "fig, ax = plt.subplots()\n",
    "\n",
    "ax.hist(s_dia, 30)\n",
    "\n",
    "plt.show()"
   ]
  },
  {
   "cell_type": "code",
   "execution_count": 66,
   "metadata": {},
   "outputs": [
    {
     "data": {
      "text/html": [
       "<div>\n",
       "<style scoped>\n",
       "    .dataframe tbody tr th:only-of-type {\n",
       "        vertical-align: middle;\n",
       "    }\n",
       "\n",
       "    .dataframe tbody tr th {\n",
       "        vertical-align: top;\n",
       "    }\n",
       "\n",
       "    .dataframe thead th {\n",
       "        text-align: right;\n",
       "    }\n",
       "</style>\n",
       "<table border=\"1\" class=\"dataframe\">\n",
       "  <thead>\n",
       "    <tr style=\"text-align: right;\">\n",
       "      <th></th>\n",
       "      <th>Dia</th>\n",
       "      <th>Mes</th>\n",
       "      <th>Dia_num</th>\n",
       "      <th>Hora</th>\n",
       "      <th>Año</th>\n",
       "      <th>Servidor</th>\n",
       "      <th>vd</th>\n",
       "      <th>type</th>\n",
       "      <th>subtype</th>\n",
       "      <th>accion</th>\n",
       "      <th>devname</th>\n",
       "      <th>eventtime</th>\n",
       "      <th>level</th>\n",
       "      <th>logdesc</th>\n",
       "      <th>msg</th>\n",
       "      <th>remip</th>\n",
       "      <th>tunneltype</th>\n",
       "      <th>user</th>\n",
       "    </tr>\n",
       "    <tr>\n",
       "      <th>reason</th>\n",
       "      <th></th>\n",
       "      <th></th>\n",
       "      <th></th>\n",
       "      <th></th>\n",
       "      <th></th>\n",
       "      <th></th>\n",
       "      <th></th>\n",
       "      <th></th>\n",
       "      <th></th>\n",
       "      <th></th>\n",
       "      <th></th>\n",
       "      <th></th>\n",
       "      <th></th>\n",
       "      <th></th>\n",
       "      <th></th>\n",
       "      <th></th>\n",
       "      <th></th>\n",
       "      <th></th>\n",
       "    </tr>\n",
       "  </thead>\n",
       "  <tbody>\n",
       "    <tr>\n",
       "      <th>sslvpn_login_no_matching_policy</th>\n",
       "      <td>12</td>\n",
       "      <td>12</td>\n",
       "      <td>12</td>\n",
       "      <td>12</td>\n",
       "      <td>12</td>\n",
       "      <td>12</td>\n",
       "      <td>12</td>\n",
       "      <td>12</td>\n",
       "      <td>12</td>\n",
       "      <td>12</td>\n",
       "      <td>12</td>\n",
       "      <td>12</td>\n",
       "      <td>12</td>\n",
       "      <td>12</td>\n",
       "      <td>12</td>\n",
       "      <td>12</td>\n",
       "      <td>12</td>\n",
       "      <td>12</td>\n",
       "    </tr>\n",
       "    <tr>\n",
       "      <th>sslvpn_login_permission_denied</th>\n",
       "      <td>4683</td>\n",
       "      <td>4683</td>\n",
       "      <td>4683</td>\n",
       "      <td>4683</td>\n",
       "      <td>4683</td>\n",
       "      <td>4683</td>\n",
       "      <td>4683</td>\n",
       "      <td>4683</td>\n",
       "      <td>4683</td>\n",
       "      <td>4683</td>\n",
       "      <td>4683</td>\n",
       "      <td>4683</td>\n",
       "      <td>4683</td>\n",
       "      <td>4683</td>\n",
       "      <td>4683</td>\n",
       "      <td>4683</td>\n",
       "      <td>4683</td>\n",
       "      <td>4683</td>\n",
       "    </tr>\n",
       "    <tr>\n",
       "      <th>sslvpn_login_unknown_user</th>\n",
       "      <td>2326</td>\n",
       "      <td>2326</td>\n",
       "      <td>2326</td>\n",
       "      <td>2326</td>\n",
       "      <td>2326</td>\n",
       "      <td>2326</td>\n",
       "      <td>2326</td>\n",
       "      <td>2326</td>\n",
       "      <td>2326</td>\n",
       "      <td>2326</td>\n",
       "      <td>2326</td>\n",
       "      <td>2326</td>\n",
       "      <td>2326</td>\n",
       "      <td>2326</td>\n",
       "      <td>2326</td>\n",
       "      <td>2326</td>\n",
       "      <td>2326</td>\n",
       "      <td>2326</td>\n",
       "    </tr>\n",
       "  </tbody>\n",
       "</table>\n",
       "</div>"
      ],
      "text/plain": [
       "                                  Dia   Mes  Dia_num  Hora   Año  Servidor  \\\n",
       "reason                                                                       \n",
       "sslvpn_login_no_matching_policy    12    12       12    12    12        12   \n",
       "sslvpn_login_permission_denied   4683  4683     4683  4683  4683      4683   \n",
       "sslvpn_login_unknown_user        2326  2326     2326  2326  2326      2326   \n",
       "\n",
       "                                   vd  type  subtype  accion  devname  \\\n",
       "reason                                                                  \n",
       "sslvpn_login_no_matching_policy    12    12       12      12       12   \n",
       "sslvpn_login_permission_denied   4683  4683     4683    4683     4683   \n",
       "sslvpn_login_unknown_user        2326  2326     2326    2326     2326   \n",
       "\n",
       "                                 eventtime  level  logdesc   msg  remip  \\\n",
       "reason                                                                    \n",
       "sslvpn_login_no_matching_policy         12     12       12    12     12   \n",
       "sslvpn_login_permission_denied        4683   4683     4683  4683   4683   \n",
       "sslvpn_login_unknown_user             2326   2326     2326  2326   2326   \n",
       "\n",
       "                                 tunneltype  user  \n",
       "reason                                             \n",
       "sslvpn_login_no_matching_policy          12    12  \n",
       "sslvpn_login_permission_denied         4683  4683  \n",
       "sslvpn_login_unknown_user              2326  2326  "
      ]
     },
     "execution_count": 66,
     "metadata": {},
     "output_type": "execute_result"
    }
   ],
   "source": [
    "df_logins.groupby(\"reason\").count()"
   ]
  },
  {
   "cell_type": "code",
   "execution_count": null,
   "metadata": {},
   "outputs": [],
   "source": []
  }
 ],
 "metadata": {
  "kernelspec": {
   "display_name": "Python 3 (ipykernel)",
   "language": "python",
   "name": "python3"
  },
  "language_info": {
   "codemirror_mode": {
    "name": "ipython",
    "version": 3
   },
   "file_extension": ".py",
   "mimetype": "text/x-python",
   "name": "python",
   "nbconvert_exporter": "python",
   "pygments_lexer": "ipython3",
   "version": "3.8.10"
  }
 },
 "nbformat": 4,
 "nbformat_minor": 2
}
