{
 "cells": [
  {
   "cell_type": "code",
   "execution_count": null,
   "metadata": {},
   "outputs": [],
   "source": [
    "import matplotlib.pyplot as plt\n",
    "import pandas as pd"
   ]
  },
  {
   "cell_type": "code",
   "execution_count": null,
   "metadata": {},
   "outputs": [],
   "source": [
    "df_logins = pd.read_csv(\"VPN_Logins_Fallidos-2021-09-02.csv\")"
   ]
  },
  {
   "cell_type": "code",
   "execution_count": null,
   "metadata": {},
   "outputs": [],
   "source": [
    "'''\n",
    "fig, ax = plt.subplots()\n",
    "logins.plot(kind=\"hist\", x = \"_time\", y = \"logdesc\")\n",
    "plt.show()'''"
   ]
  },
  {
   "cell_type": "markdown",
   "metadata": {},
   "source": [
    "* La primer columna \"_time \" tiene valores compuestos, con lo cual los descompongo en varias columnas"
   ]
  },
  {
   "cell_type": "code",
   "execution_count": null,
   "metadata": {},
   "outputs": [],
   "source": [
    "s_time = df_logins[\"_time\"].apply(str.split) #Descompongo el campo \"fecha\" en una serie de listas\n",
    "\n",
    "# Armo un dataframe con el campo fecha:\n",
    "lista_series = []\n",
    "for i in range(0, s_time.shape[0]):\n",
    "    lista_series.append(s_time[i])\n",
    "\n",
    "df_time = pd.DataFrame(lista_series, columns=[\"Dia\", \"Mes\", \"Dia_num\", \"Hora\", \"Año\"])\n",
    "\n",
    "df_logins = pd.concat([df_time, df_logins], axis= 1) #Concateno los dos dataframe\n",
    "\n",
    "del df_logins[\"_time\"] # elimino la columna compuesta\n",
    "#print(df_logins.head(10))"
   ]
  },
  {
   "cell_type": "code",
   "execution_count": null,
   "metadata": {},
   "outputs": [],
   "source": []
  }
 ],
 "metadata": {
  "kernelspec": {
   "display_name": "Python 3 (ipykernel)",
   "language": "python",
   "name": "python3"
  },
  "language_info": {
   "codemirror_mode": {
    "name": "ipython",
    "version": 3
   },
   "file_extension": ".py",
   "mimetype": "text/x-python",
   "name": "python",
   "nbconvert_exporter": "python",
   "pygments_lexer": "ipython3",
   "version": "3.8.10"
  }
 },
 "nbformat": 4,
 "nbformat_minor": 2
}
