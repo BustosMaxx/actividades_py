{
 "cells": [
  {
   "cell_type": "markdown",
   "id": "00c29f37",
   "metadata": {},
   "source": [
    "# ANÁLISIS DE ALERTA"
   ]
  },
  {
   "cell_type": "code",
   "execution_count": 1,
   "id": "b13d3480",
   "metadata": {},
   "outputs": [],
   "source": [
    "import pandas as pd\n",
    "import matplotlib.pyplot as plt\n",
    "\n",
    "df_logins = pd.read_csv(\"Logins_Fallidos.csv\") "
   ]
  },
  {
   "cell_type": "code",
   "execution_count": 2,
   "id": "0c4f7b09",
   "metadata": {},
   "outputs": [
    {
     "data": {
      "text/html": [
       "<div>\n",
       "<style scoped>\n",
       "    .dataframe tbody tr th:only-of-type {\n",
       "        vertical-align: middle;\n",
       "    }\n",
       "\n",
       "    .dataframe tbody tr th {\n",
       "        vertical-align: top;\n",
       "    }\n",
       "\n",
       "    .dataframe thead th {\n",
       "        text-align: right;\n",
       "    }\n",
       "</style>\n",
       "<table border=\"1\" class=\"dataframe\">\n",
       "  <thead>\n",
       "    <tr style=\"text-align: right;\">\n",
       "      <th></th>\n",
       "      <th>_time</th>\n",
       "      <th>Servidor</th>\n",
       "      <th>vd</th>\n",
       "      <th>type</th>\n",
       "      <th>subtype</th>\n",
       "      <th>accion</th>\n",
       "      <th>devname</th>\n",
       "      <th>eventtime</th>\n",
       "      <th>level</th>\n",
       "      <th>logdesc</th>\n",
       "      <th>msg</th>\n",
       "      <th>reason</th>\n",
       "      <th>remip</th>\n",
       "      <th>tunneltype</th>\n",
       "      <th>user</th>\n",
       "    </tr>\n",
       "  </thead>\n",
       "  <tbody>\n",
       "    <tr>\n",
       "      <th>0</th>\n",
       "      <td>Tue Aug 31 15:30:55 2021</td>\n",
       "      <td>FGT60E4Q16045068</td>\n",
       "      <td>root</td>\n",
       "      <td>event</td>\n",
       "      <td>vpn</td>\n",
       "      <td>ssl-login-fail</td>\n",
       "      <td>TJSM-BA</td>\n",
       "      <td>1630434653</td>\n",
       "      <td>alert</td>\n",
       "      <td>SSL VPN login fail</td>\n",
       "      <td>SSL user failed to logged in</td>\n",
       "      <td>sslvpn_login_permission_denied</td>\n",
       "      <td>181.89.208.251</td>\n",
       "      <td>ssl-web</td>\n",
       "      <td>ddistasi</td>\n",
       "    </tr>\n",
       "    <tr>\n",
       "      <th>1</th>\n",
       "      <td>Tue Aug 31 14:21:44 2021</td>\n",
       "      <td>FG10E1TB19900657</td>\n",
       "      <td>root</td>\n",
       "      <td>event</td>\n",
       "      <td>vpn</td>\n",
       "      <td>ssl-login-fail</td>\n",
       "      <td>CEPU_BA_FG10E1</td>\n",
       "      <td>1630430503940807968</td>\n",
       "      <td>alert</td>\n",
       "      <td>SSL VPN login fail</td>\n",
       "      <td>SSL user failed to logged in</td>\n",
       "      <td>sslvpn_login_permission_denied</td>\n",
       "      <td>186.22.56.221</td>\n",
       "      <td>ssl-web</td>\n",
       "      <td>e.bramos</td>\n",
       "    </tr>\n",
       "    <tr>\n",
       "      <th>2</th>\n",
       "      <td>Tue Aug 31 12:18:51 2021</td>\n",
       "      <td>FG10E1TB19900657</td>\n",
       "      <td>root</td>\n",
       "      <td>event</td>\n",
       "      <td>vpn</td>\n",
       "      <td>ssl-login-fail</td>\n",
       "      <td>CEPU_BA_FG10E1</td>\n",
       "      <td>1630423129365172184</td>\n",
       "      <td>alert</td>\n",
       "      <td>SSL VPN login fail</td>\n",
       "      <td>SSL user failed to logged in</td>\n",
       "      <td>sslvpn_login_permission_denied</td>\n",
       "      <td>181.229.220.155</td>\n",
       "      <td>ssl-web</td>\n",
       "      <td>readymind2</td>\n",
       "    </tr>\n",
       "    <tr>\n",
       "      <th>3</th>\n",
       "      <td>Tue Aug 31 12:18:31 2021</td>\n",
       "      <td>FG10E1TB19900657</td>\n",
       "      <td>root</td>\n",
       "      <td>event</td>\n",
       "      <td>vpn</td>\n",
       "      <td>ssl-login-fail</td>\n",
       "      <td>CEPU_BA_FG10E1</td>\n",
       "      <td>1630423110737284913</td>\n",
       "      <td>alert</td>\n",
       "      <td>SSL VPN login fail</td>\n",
       "      <td>SSL user failed to logged in</td>\n",
       "      <td>sslvpn_login_permission_denied</td>\n",
       "      <td>181.229.220.155</td>\n",
       "      <td>ssl-web</td>\n",
       "      <td>readymind2</td>\n",
       "    </tr>\n",
       "    <tr>\n",
       "      <th>4</th>\n",
       "      <td>Tue Aug 31 12:16:37 2021</td>\n",
       "      <td>FG10E1TB19900657</td>\n",
       "      <td>root</td>\n",
       "      <td>event</td>\n",
       "      <td>vpn</td>\n",
       "      <td>ssl-login-fail</td>\n",
       "      <td>CEPU_BA_FG10E1</td>\n",
       "      <td>1630422995366171961</td>\n",
       "      <td>alert</td>\n",
       "      <td>SSL VPN login fail</td>\n",
       "      <td>SSL user failed to logged in</td>\n",
       "      <td>sslvpn_login_permission_denied</td>\n",
       "      <td>181.229.220.155</td>\n",
       "      <td>ssl-web</td>\n",
       "      <td>MAD\\readymind2</td>\n",
       "    </tr>\n",
       "  </tbody>\n",
       "</table>\n",
       "</div>"
      ],
      "text/plain": [
       "                      _time          Servidor    vd   type subtype  \\\n",
       "0  Tue Aug 31 15:30:55 2021  FGT60E4Q16045068  root  event     vpn   \n",
       "1  Tue Aug 31 14:21:44 2021  FG10E1TB19900657  root  event     vpn   \n",
       "2  Tue Aug 31 12:18:51 2021  FG10E1TB19900657  root  event     vpn   \n",
       "3  Tue Aug 31 12:18:31 2021  FG10E1TB19900657  root  event     vpn   \n",
       "4  Tue Aug 31 12:16:37 2021  FG10E1TB19900657  root  event     vpn   \n",
       "\n",
       "           accion         devname            eventtime  level  \\\n",
       "0  ssl-login-fail         TJSM-BA           1630434653  alert   \n",
       "1  ssl-login-fail  CEPU_BA_FG10E1  1630430503940807968  alert   \n",
       "2  ssl-login-fail  CEPU_BA_FG10E1  1630423129365172184  alert   \n",
       "3  ssl-login-fail  CEPU_BA_FG10E1  1630423110737284913  alert   \n",
       "4  ssl-login-fail  CEPU_BA_FG10E1  1630422995366171961  alert   \n",
       "\n",
       "              logdesc                           msg  \\\n",
       "0  SSL VPN login fail  SSL user failed to logged in   \n",
       "1  SSL VPN login fail  SSL user failed to logged in   \n",
       "2  SSL VPN login fail  SSL user failed to logged in   \n",
       "3  SSL VPN login fail  SSL user failed to logged in   \n",
       "4  SSL VPN login fail  SSL user failed to logged in   \n",
       "\n",
       "                           reason            remip tunneltype            user  \n",
       "0  sslvpn_login_permission_denied   181.89.208.251    ssl-web        ddistasi  \n",
       "1  sslvpn_login_permission_denied    186.22.56.221    ssl-web        e.bramos  \n",
       "2  sslvpn_login_permission_denied  181.229.220.155    ssl-web      readymind2  \n",
       "3  sslvpn_login_permission_denied  181.229.220.155    ssl-web      readymind2  \n",
       "4  sslvpn_login_permission_denied  181.229.220.155    ssl-web  MAD\\readymind2  "
      ]
     },
     "execution_count": 2,
     "metadata": {},
     "output_type": "execute_result"
    }
   ],
   "source": [
    "df_logins.head()"
   ]
  },
  {
   "cell_type": "markdown",
   "id": "b936b433",
   "metadata": {},
   "source": [
    "### Parseo el formato de fecha en columnas distintas"
   ]
  },
  {
   "cell_type": "code",
   "execution_count": 3,
   "id": "1a25331e",
   "metadata": {},
   "outputs": [],
   "source": [
    "time = df_logins[\"_time\"].apply(str.split)\n",
    "lst_time = []\n",
    "for i in range(0,len(time)-1):\n",
    "    lst_time.append(time[i])\n",
    "    \n",
    "#Armo un dataframe con el datetime:\n",
    "df_time = pd.DataFrame(lst_time, columns = [\"dia_nombre\", \"mes_nombre\", \"dia_num\", \"hora\", \"año_num\"])\n"
   ]
  },
  {
   "cell_type": "code",
   "execution_count": 4,
   "id": "5174678d",
   "metadata": {},
   "outputs": [],
   "source": [
    "#Concateno los dos dataframe:\n",
    "df_Logins =pd.concat([df_time,df_logins], axis = 1) #axis=1 es para que sume como una columna más.\n",
    "#Elimino la columna del campo datetime, ya no la necesito:\n",
    "del df_Logins[\"_time\"]\n",
    "#print(df_Logins.head())"
   ]
  },
  {
   "cell_type": "code",
   "execution_count": 5,
   "id": "e8e47b70",
   "metadata": {},
   "outputs": [
    {
     "data": {
      "text/plain": [
       "(7020, 19)"
      ]
     },
     "execution_count": 5,
     "metadata": {},
     "output_type": "execute_result"
    }
   ],
   "source": [
    "df_Logins = df_Logins.dropna(subset= [\"dia_num\"])\n",
    "df_Logins.shape"
   ]
  },
  {
   "cell_type": "code",
   "execution_count": 6,
   "id": "d7e2ffbe",
   "metadata": {},
   "outputs": [
    {
     "data": {
      "text/plain": [
       "dia_nombre    object\n",
       "mes_nombre    object\n",
       "dia_num        int64\n",
       "hora          object\n",
       "año_num       object\n",
       "Servidor      object\n",
       "vd            object\n",
       "type          object\n",
       "subtype       object\n",
       "accion        object\n",
       "devname       object\n",
       "eventtime      int64\n",
       "level         object\n",
       "logdesc       object\n",
       "msg           object\n",
       "reason        object\n",
       "remip         object\n",
       "tunneltype    object\n",
       "user          object\n",
       "dtype: object"
      ]
     },
     "execution_count": 6,
     "metadata": {},
     "output_type": "execute_result"
    }
   ],
   "source": [
    "df_Logins = df_Logins.astype({\"dia_num\": \"int\"})\n",
    "df_Logins.dtypes"
   ]
  },
  {
   "cell_type": "code",
   "execution_count": 7,
   "id": "c90dd904",
   "metadata": {},
   "outputs": [],
   "source": [
    "_hora = df_Logins[\"hora\"]\n",
    "#.astype(\"string\")\n",
    "_hora.astype(\"str\")\n",
    "#_hora\n",
    "_hora = _hora.str.split(':')\n"
   ]
  },
  {
   "cell_type": "code",
   "execution_count": 8,
   "id": "70e9ac2a",
   "metadata": {},
   "outputs": [
    {
     "data": {
      "text/plain": [
       "Index(['dia_nombre', 'mes_nombre', 'dia_num', 'hora', 'año_num', 'Servidor',\n",
       "       'vd', 'type', 'subtype', 'accion', 'devname', 'eventtime', 'level',\n",
       "       'logdesc', 'msg', 'reason', 'remip', 'tunneltype', 'user'],\n",
       "      dtype='object')"
      ]
     },
     "execution_count": 8,
     "metadata": {},
     "output_type": "execute_result"
    }
   ],
   "source": [
    "df_Logins.columns"
   ]
  },
  {
   "cell_type": "code",
   "execution_count": 9,
   "id": "91d9265b",
   "metadata": {},
   "outputs": [
    {
     "data": {
      "text/html": [
       "<div>\n",
       "<style scoped>\n",
       "    .dataframe tbody tr th:only-of-type {\n",
       "        vertical-align: middle;\n",
       "    }\n",
       "\n",
       "    .dataframe tbody tr th {\n",
       "        vertical-align: top;\n",
       "    }\n",
       "\n",
       "    .dataframe thead th {\n",
       "        text-align: right;\n",
       "    }\n",
       "</style>\n",
       "<table border=\"1\" class=\"dataframe\">\n",
       "  <thead>\n",
       "    <tr style=\"text-align: right;\">\n",
       "      <th></th>\n",
       "      <th>dia_nombre</th>\n",
       "      <th>mes_nombre</th>\n",
       "      <th>dia_num</th>\n",
       "      <th>año_num</th>\n",
       "      <th>Servidor</th>\n",
       "      <th>vd</th>\n",
       "      <th>type</th>\n",
       "      <th>subtype</th>\n",
       "      <th>accion</th>\n",
       "      <th>devname</th>\n",
       "      <th>...</th>\n",
       "      <th>level</th>\n",
       "      <th>logdesc</th>\n",
       "      <th>msg</th>\n",
       "      <th>reason</th>\n",
       "      <th>remip</th>\n",
       "      <th>tunneltype</th>\n",
       "      <th>user</th>\n",
       "      <th>hora</th>\n",
       "      <th>minuto</th>\n",
       "      <th>segundo</th>\n",
       "    </tr>\n",
       "  </thead>\n",
       "  <tbody>\n",
       "    <tr>\n",
       "      <th>0</th>\n",
       "      <td>Tue</td>\n",
       "      <td>Aug</td>\n",
       "      <td>31</td>\n",
       "      <td>2021</td>\n",
       "      <td>FGT60E4Q16045068</td>\n",
       "      <td>root</td>\n",
       "      <td>event</td>\n",
       "      <td>vpn</td>\n",
       "      <td>ssl-login-fail</td>\n",
       "      <td>TJSM-BA</td>\n",
       "      <td>...</td>\n",
       "      <td>alert</td>\n",
       "      <td>SSL VPN login fail</td>\n",
       "      <td>SSL user failed to logged in</td>\n",
       "      <td>sslvpn_login_permission_denied</td>\n",
       "      <td>181.89.208.251</td>\n",
       "      <td>ssl-web</td>\n",
       "      <td>ddistasi</td>\n",
       "      <td>15</td>\n",
       "      <td>30</td>\n",
       "      <td>55</td>\n",
       "    </tr>\n",
       "    <tr>\n",
       "      <th>1</th>\n",
       "      <td>Tue</td>\n",
       "      <td>Aug</td>\n",
       "      <td>31</td>\n",
       "      <td>2021</td>\n",
       "      <td>FG10E1TB19900657</td>\n",
       "      <td>root</td>\n",
       "      <td>event</td>\n",
       "      <td>vpn</td>\n",
       "      <td>ssl-login-fail</td>\n",
       "      <td>CEPU_BA_FG10E1</td>\n",
       "      <td>...</td>\n",
       "      <td>alert</td>\n",
       "      <td>SSL VPN login fail</td>\n",
       "      <td>SSL user failed to logged in</td>\n",
       "      <td>sslvpn_login_permission_denied</td>\n",
       "      <td>186.22.56.221</td>\n",
       "      <td>ssl-web</td>\n",
       "      <td>e.bramos</td>\n",
       "      <td>14</td>\n",
       "      <td>21</td>\n",
       "      <td>44</td>\n",
       "    </tr>\n",
       "    <tr>\n",
       "      <th>2</th>\n",
       "      <td>Tue</td>\n",
       "      <td>Aug</td>\n",
       "      <td>31</td>\n",
       "      <td>2021</td>\n",
       "      <td>FG10E1TB19900657</td>\n",
       "      <td>root</td>\n",
       "      <td>event</td>\n",
       "      <td>vpn</td>\n",
       "      <td>ssl-login-fail</td>\n",
       "      <td>CEPU_BA_FG10E1</td>\n",
       "      <td>...</td>\n",
       "      <td>alert</td>\n",
       "      <td>SSL VPN login fail</td>\n",
       "      <td>SSL user failed to logged in</td>\n",
       "      <td>sslvpn_login_permission_denied</td>\n",
       "      <td>181.229.220.155</td>\n",
       "      <td>ssl-web</td>\n",
       "      <td>readymind2</td>\n",
       "      <td>12</td>\n",
       "      <td>18</td>\n",
       "      <td>51</td>\n",
       "    </tr>\n",
       "    <tr>\n",
       "      <th>3</th>\n",
       "      <td>Tue</td>\n",
       "      <td>Aug</td>\n",
       "      <td>31</td>\n",
       "      <td>2021</td>\n",
       "      <td>FG10E1TB19900657</td>\n",
       "      <td>root</td>\n",
       "      <td>event</td>\n",
       "      <td>vpn</td>\n",
       "      <td>ssl-login-fail</td>\n",
       "      <td>CEPU_BA_FG10E1</td>\n",
       "      <td>...</td>\n",
       "      <td>alert</td>\n",
       "      <td>SSL VPN login fail</td>\n",
       "      <td>SSL user failed to logged in</td>\n",
       "      <td>sslvpn_login_permission_denied</td>\n",
       "      <td>181.229.220.155</td>\n",
       "      <td>ssl-web</td>\n",
       "      <td>readymind2</td>\n",
       "      <td>12</td>\n",
       "      <td>18</td>\n",
       "      <td>31</td>\n",
       "    </tr>\n",
       "    <tr>\n",
       "      <th>4</th>\n",
       "      <td>Tue</td>\n",
       "      <td>Aug</td>\n",
       "      <td>31</td>\n",
       "      <td>2021</td>\n",
       "      <td>FG10E1TB19900657</td>\n",
       "      <td>root</td>\n",
       "      <td>event</td>\n",
       "      <td>vpn</td>\n",
       "      <td>ssl-login-fail</td>\n",
       "      <td>CEPU_BA_FG10E1</td>\n",
       "      <td>...</td>\n",
       "      <td>alert</td>\n",
       "      <td>SSL VPN login fail</td>\n",
       "      <td>SSL user failed to logged in</td>\n",
       "      <td>sslvpn_login_permission_denied</td>\n",
       "      <td>181.229.220.155</td>\n",
       "      <td>ssl-web</td>\n",
       "      <td>MAD\\readymind2</td>\n",
       "      <td>12</td>\n",
       "      <td>16</td>\n",
       "      <td>37</td>\n",
       "    </tr>\n",
       "    <tr>\n",
       "      <th>...</th>\n",
       "      <td>...</td>\n",
       "      <td>...</td>\n",
       "      <td>...</td>\n",
       "      <td>...</td>\n",
       "      <td>...</td>\n",
       "      <td>...</td>\n",
       "      <td>...</td>\n",
       "      <td>...</td>\n",
       "      <td>...</td>\n",
       "      <td>...</td>\n",
       "      <td>...</td>\n",
       "      <td>...</td>\n",
       "      <td>...</td>\n",
       "      <td>...</td>\n",
       "      <td>...</td>\n",
       "      <td>...</td>\n",
       "      <td>...</td>\n",
       "      <td>...</td>\n",
       "      <td>...</td>\n",
       "      <td>...</td>\n",
       "      <td>...</td>\n",
       "    </tr>\n",
       "    <tr>\n",
       "      <th>7015</th>\n",
       "      <td>Mon</td>\n",
       "      <td>Aug</td>\n",
       "      <td>2</td>\n",
       "      <td>2021</td>\n",
       "      <td>FG10E1TB19900657</td>\n",
       "      <td>root</td>\n",
       "      <td>event</td>\n",
       "      <td>vpn</td>\n",
       "      <td>ssl-login-fail</td>\n",
       "      <td>CEPU_BA_FG10E1</td>\n",
       "      <td>...</td>\n",
       "      <td>alert</td>\n",
       "      <td>SSL VPN login fail</td>\n",
       "      <td>SSL user failed to logged in</td>\n",
       "      <td>sslvpn_login_permission_denied</td>\n",
       "      <td>186.18.53.154</td>\n",
       "      <td>ssl-web</td>\n",
       "      <td>e.mcervantes</td>\n",
       "      <td>15</td>\n",
       "      <td>37</td>\n",
       "      <td>18</td>\n",
       "    </tr>\n",
       "    <tr>\n",
       "      <th>7016</th>\n",
       "      <td>Mon</td>\n",
       "      <td>Aug</td>\n",
       "      <td>2</td>\n",
       "      <td>2021</td>\n",
       "      <td>FG10E1TB19900657</td>\n",
       "      <td>root</td>\n",
       "      <td>event</td>\n",
       "      <td>vpn</td>\n",
       "      <td>ssl-login-fail</td>\n",
       "      <td>CEPU_BA_FG10E1</td>\n",
       "      <td>...</td>\n",
       "      <td>alert</td>\n",
       "      <td>SSL VPN login fail</td>\n",
       "      <td>SSL user failed to logged in</td>\n",
       "      <td>sslvpn_login_permission_denied</td>\n",
       "      <td>201.212.162.168</td>\n",
       "      <td>ssl-web</td>\n",
       "      <td>MAD\\JSuarez</td>\n",
       "      <td>15</td>\n",
       "      <td>19</td>\n",
       "      <td>31</td>\n",
       "    </tr>\n",
       "    <tr>\n",
       "      <th>7017</th>\n",
       "      <td>Mon</td>\n",
       "      <td>Aug</td>\n",
       "      <td>2</td>\n",
       "      <td>2021</td>\n",
       "      <td>FG10E1TB19900657</td>\n",
       "      <td>root</td>\n",
       "      <td>event</td>\n",
       "      <td>vpn</td>\n",
       "      <td>ssl-login-fail</td>\n",
       "      <td>CEPU_BA_FG10E1</td>\n",
       "      <td>...</td>\n",
       "      <td>alert</td>\n",
       "      <td>SSL VPN login fail</td>\n",
       "      <td>SSL user failed to logged in</td>\n",
       "      <td>sslvpn_login_permission_denied</td>\n",
       "      <td>201.212.162.168</td>\n",
       "      <td>ssl-web</td>\n",
       "      <td>MAD\\jsuarez</td>\n",
       "      <td>15</td>\n",
       "      <td>18</td>\n",
       "      <td>47</td>\n",
       "    </tr>\n",
       "    <tr>\n",
       "      <th>7018</th>\n",
       "      <td>Mon</td>\n",
       "      <td>Aug</td>\n",
       "      <td>2</td>\n",
       "      <td>2021</td>\n",
       "      <td>FG10E1TB19900657</td>\n",
       "      <td>root</td>\n",
       "      <td>event</td>\n",
       "      <td>vpn</td>\n",
       "      <td>ssl-login-fail</td>\n",
       "      <td>CEPU_BA_FG10E1</td>\n",
       "      <td>...</td>\n",
       "      <td>alert</td>\n",
       "      <td>SSL VPN login fail</td>\n",
       "      <td>SSL user failed to logged in</td>\n",
       "      <td>sslvpn_login_permission_denied</td>\n",
       "      <td>181.46.9.178</td>\n",
       "      <td>ssl-web</td>\n",
       "      <td>rcoronel</td>\n",
       "      <td>11</td>\n",
       "      <td>15</td>\n",
       "      <td>46</td>\n",
       "    </tr>\n",
       "    <tr>\n",
       "      <th>7019</th>\n",
       "      <td>Mon</td>\n",
       "      <td>Aug</td>\n",
       "      <td>2</td>\n",
       "      <td>2021</td>\n",
       "      <td>FG10E1TB19900657</td>\n",
       "      <td>root</td>\n",
       "      <td>event</td>\n",
       "      <td>vpn</td>\n",
       "      <td>ssl-login-fail</td>\n",
       "      <td>CEPU_BA_FG10E1</td>\n",
       "      <td>...</td>\n",
       "      <td>alert</td>\n",
       "      <td>SSL VPN login fail</td>\n",
       "      <td>SSL user failed to logged in</td>\n",
       "      <td>sslvpn_login_permission_denied</td>\n",
       "      <td>186.22.146.163</td>\n",
       "      <td>ssl-web</td>\n",
       "      <td>ReadyMind1</td>\n",
       "      <td>11</td>\n",
       "      <td>14</td>\n",
       "      <td>16</td>\n",
       "    </tr>\n",
       "  </tbody>\n",
       "</table>\n",
       "<p>7020 rows × 21 columns</p>\n",
       "</div>"
      ],
      "text/plain": [
       "     dia_nombre mes_nombre  dia_num año_num          Servidor    vd   type  \\\n",
       "0           Tue        Aug       31    2021  FGT60E4Q16045068  root  event   \n",
       "1           Tue        Aug       31    2021  FG10E1TB19900657  root  event   \n",
       "2           Tue        Aug       31    2021  FG10E1TB19900657  root  event   \n",
       "3           Tue        Aug       31    2021  FG10E1TB19900657  root  event   \n",
       "4           Tue        Aug       31    2021  FG10E1TB19900657  root  event   \n",
       "...         ...        ...      ...     ...               ...   ...    ...   \n",
       "7015        Mon        Aug        2    2021  FG10E1TB19900657  root  event   \n",
       "7016        Mon        Aug        2    2021  FG10E1TB19900657  root  event   \n",
       "7017        Mon        Aug        2    2021  FG10E1TB19900657  root  event   \n",
       "7018        Mon        Aug        2    2021  FG10E1TB19900657  root  event   \n",
       "7019        Mon        Aug        2    2021  FG10E1TB19900657  root  event   \n",
       "\n",
       "     subtype          accion         devname  ...  level             logdesc  \\\n",
       "0        vpn  ssl-login-fail         TJSM-BA  ...  alert  SSL VPN login fail   \n",
       "1        vpn  ssl-login-fail  CEPU_BA_FG10E1  ...  alert  SSL VPN login fail   \n",
       "2        vpn  ssl-login-fail  CEPU_BA_FG10E1  ...  alert  SSL VPN login fail   \n",
       "3        vpn  ssl-login-fail  CEPU_BA_FG10E1  ...  alert  SSL VPN login fail   \n",
       "4        vpn  ssl-login-fail  CEPU_BA_FG10E1  ...  alert  SSL VPN login fail   \n",
       "...      ...             ...             ...  ...    ...                 ...   \n",
       "7015     vpn  ssl-login-fail  CEPU_BA_FG10E1  ...  alert  SSL VPN login fail   \n",
       "7016     vpn  ssl-login-fail  CEPU_BA_FG10E1  ...  alert  SSL VPN login fail   \n",
       "7017     vpn  ssl-login-fail  CEPU_BA_FG10E1  ...  alert  SSL VPN login fail   \n",
       "7018     vpn  ssl-login-fail  CEPU_BA_FG10E1  ...  alert  SSL VPN login fail   \n",
       "7019     vpn  ssl-login-fail  CEPU_BA_FG10E1  ...  alert  SSL VPN login fail   \n",
       "\n",
       "                               msg                          reason  \\\n",
       "0     SSL user failed to logged in  sslvpn_login_permission_denied   \n",
       "1     SSL user failed to logged in  sslvpn_login_permission_denied   \n",
       "2     SSL user failed to logged in  sslvpn_login_permission_denied   \n",
       "3     SSL user failed to logged in  sslvpn_login_permission_denied   \n",
       "4     SSL user failed to logged in  sslvpn_login_permission_denied   \n",
       "...                            ...                             ...   \n",
       "7015  SSL user failed to logged in  sslvpn_login_permission_denied   \n",
       "7016  SSL user failed to logged in  sslvpn_login_permission_denied   \n",
       "7017  SSL user failed to logged in  sslvpn_login_permission_denied   \n",
       "7018  SSL user failed to logged in  sslvpn_login_permission_denied   \n",
       "7019  SSL user failed to logged in  sslvpn_login_permission_denied   \n",
       "\n",
       "                remip tunneltype            user hora minuto segundo  \n",
       "0      181.89.208.251    ssl-web        ddistasi   15     30      55  \n",
       "1       186.22.56.221    ssl-web        e.bramos   14     21      44  \n",
       "2     181.229.220.155    ssl-web      readymind2   12     18      51  \n",
       "3     181.229.220.155    ssl-web      readymind2   12     18      31  \n",
       "4     181.229.220.155    ssl-web  MAD\\readymind2   12     16      37  \n",
       "...               ...        ...             ...  ...    ...     ...  \n",
       "7015    186.18.53.154    ssl-web    e.mcervantes   15     37      18  \n",
       "7016  201.212.162.168    ssl-web     MAD\\JSuarez   15     19      31  \n",
       "7017  201.212.162.168    ssl-web     MAD\\jsuarez   15     18      47  \n",
       "7018     181.46.9.178    ssl-web        rcoronel   11     15      46  \n",
       "7019   186.22.146.163    ssl-web      ReadyMind1   11     14      16  \n",
       "\n",
       "[7020 rows x 21 columns]"
      ]
     },
     "execution_count": 9,
     "metadata": {},
     "output_type": "execute_result"
    }
   ],
   "source": [
    "del df_Logins[\"hora\"]\n",
    "lst_hora = []\n",
    "for i in range(0, len(_hora)):\n",
    "    lst_hora.append(_hora[i])\n",
    "#lst_hora\n",
    "\n",
    "\n",
    "\n",
    "df_hora = pd.DataFrame(lst_hora, columns=[\"hora\",\"minuto\",\"segundo\"])\n",
    "df_Logins = pd.concat([df_Logins, df_hora], axis = 1)\n",
    "df_Logins"
   ]
  },
  {
   "cell_type": "markdown",
   "id": "841bbd92",
   "metadata": {},
   "source": [
    "## Histograma"
   ]
  },
  {
   "cell_type": "code",
   "execution_count": 10,
   "id": "54aa3a35",
   "metadata": {},
   "outputs": [
    {
     "data": {
      "image/png": "[encoded data removed]",
      "text/plain": [
       "<Figure size 432x288 with 1 Axes>"
      ]
     },
     "metadata": {
      "needs_background": "light"
     },
     "output_type": "display_data"
    }
   ],
   "source": [
    "ejes = df_Logins.groupby(\"dia_num\").count()[\"logdesc\"]\n",
    "#print(ejes)\n",
    "intervalos = range(1,30,2)\n",
    "\n",
    "\n",
    "plt.bar(ejes.index, ejes.values, color = \"red\")   \n",
    "plt.title('Histograma de eventos - matplotlib')\n",
    "plt.xlabel('Eventos x día')\n",
    "plt.ylabel('Frecuencia')\n",
    "plt.xticks(intervalos)\n",
    "plt.show()"
   ]
  },
  {
   "cell_type": "markdown",
   "id": "ba9ecc1e",
   "metadata": {},
   "source": [
    "#### En splunk, en su histograma, acumula por hora de cada día. Pero no lo puedo representar con el matplotlib."
   ]
  },
  {
   "cell_type": "code",
   "execution_count": 54,
   "id": "d621b573",
   "metadata": {},
   "outputs": [
    {
     "data": {
      "image/png": "[encoded data removed]",
      "text/plain": [
       "<Figure size 432x288 with 1 Axes>"
      ]
     },
     "metadata": {
      "needs_background": "light"
     },
     "output_type": "display_data"
    }
   ],
   "source": [
    "\n",
    "#ejes_subset = df_Logins.groupby([\"dia_num\",\"hora\"]).count()[\"logdesc\"]\n",
    "#print(ejes_subset)\n",
    "intervalos = range(20,27,1)\n",
    "#plt.figure(figsize=(8,2))\n",
    "#fig, ax = plt.subplots()\n",
    "plt.hist(df_Logins[\"dia_num\"], bins=30, color='#F2AB6D', rwidth = 0.92)   # rwidth es el ancho de las barras.\n",
    "                                                  # 1 es el max y quedan pegadas\n",
    "plt.title('Histograma de eventos - matplotlib')\n",
    "plt.xlabel('Eventos x día')\n",
    "plt.ylabel('Frecuencia')\n",
    "plt.xlim([20,26])\n",
    "\n",
    "plt.xticks(intervalos)\n",
    "#plt.subplots_adjust(left=0.95)\n",
    "#fig.set_figure(figsize=(10,4))\n",
    "#fig.set_size_inches(200,100)\n",
    "#plt.savefig(\"histograma.pdf\")\n",
    "plt.show()\n",
    "\n",
    "###ME CONVIENE EL GRAFICO DE BARRAS UTILIZANDO EL GROUPBY'''"
   ]
  },
  {
   "cell_type": "code",
   "execution_count": 22,
   "id": "348c1048",
   "metadata": {},
   "outputs": [
    {
     "ename": "AttributeError",
     "evalue": "'range' object has no attribute 'size'",
     "output_type": "error",
     "traceback": [
      "\u001b[0;31m---------------------------------------------------------------------------\u001b[0m",
      "\u001b[0;31mAttributeError\u001b[0m                            Traceback (most recent call last)",
      "\u001b[0;32m/tmp/ipykernel_4141/237146607.py\u001b[0m in \u001b[0;36m<module>\u001b[0;34m\u001b[0m\n\u001b[0;32m----> 1\u001b[0;31m \u001b[0mintervalos\u001b[0m\u001b[0;34m.\u001b[0m\u001b[0msize\u001b[0m\u001b[0;34m(\u001b[0m\u001b[0;34m)\u001b[0m\u001b[0;34m\u001b[0m\u001b[0;34m\u001b[0m\u001b[0m\n\u001b[0m",
      "\u001b[0;31mAttributeError\u001b[0m: 'range' object has no attribute 'size'"
     ]
    }
   ],
   "source": [
    "intervalos.size()"
   ]
  },
  {
   "cell_type": "code",
   "execution_count": 55,
   "id": "d6b103d9",
   "metadata": {},
   "outputs": [
    {
     "data": {
      "text/plain": [
       "Index(['dia_nombre', 'mes_nombre', 'dia_num', 'año_num', 'Servidor', 'vd',\n",
       "       'type', 'subtype', 'accion', 'devname', 'eventtime', 'level', 'logdesc',\n",
       "       'msg', 'reason', 'remip', 'tunneltype', 'user', 'hora', 'minuto',\n",
       "       'segundo'],\n",
       "      dtype='object')"
      ]
     },
     "execution_count": 55,
     "metadata": {},
     "output_type": "execute_result"
    }
   ],
   "source": [
    "df_Logins.columns"
   ]
  },
  {
   "cell_type": "code",
   "execution_count": 71,
   "id": "c96e3020",
   "metadata": {},
   "outputs": [
    {
     "data": {
      "text/plain": [
       "remip\n",
       "222.189.163.82     16\n",
       "124.42.68.14       12\n",
       "181.46.83.148      10\n",
       "51.38.122.111       7\n",
       "58.33.118.115       6\n",
       "186.179.100.255     6\n",
       "1.202.88.114        5\n",
       "186.96.173.144      5\n",
       "121.148.63.176      5\n",
       "177.22.208.173      5\n",
       "Name: logdesc, dtype: int64"
      ]
     },
     "execution_count": 71,
     "metadata": {},
     "output_type": "execute_result"
    }
   ],
   "source": [
    "df_Logins[(df_Logins[\"dia_num\"] > 21) & \n",
    "          (df_Logins[\"dia_num\"] < 27)].groupby(\"remip\").count().sort_values(\"logdesc\", \n",
    "                                                                            ascending=False)[\"logdesc\"].head(10)\n"
   ]
  },
  {
   "cell_type": "code",
   "execution_count": 74,
   "id": "67c27185",
   "metadata": {},
   "outputs": [
    {
     "name": "stdout",
     "output_type": "stream",
     "text": [
      "user\n",
      "teste            190\n",
      "servidor         171\n",
      "usuario          171\n",
      "administrador    165\n",
      "remoto            89\n",
      "financeiro        70\n",
      "contabilidad      68\n",
      "sistemas          68\n",
      "contador          66\n",
      "fernando          65\n",
      "Name: logdesc, dtype: int64\n"
     ]
    }
   ],
   "source": [
    "print(df_Logins[(df_Logins[\"dia_num\"] > 21) & \n",
    "          (df_Logins[\"dia_num\"] < 27)].groupby(\"user\").count().sort_values(\"logdesc\", \n",
    "                                                                            ascending=False)[\"logdesc\"].head(10))"
   ]
  },
  {
   "cell_type": "code",
   "execution_count": 84,
   "id": "13e6ea59",
   "metadata": {},
   "outputs": [
    {
     "data": {
      "image/png": "[encoded data removed]",
      "text/plain": [
       "<Figure size 432x288 with 1 Axes>"
      ]
     },
     "metadata": {
      "needs_background": "light"
     },
     "output_type": "display_data"
    }
   ],
   "source": [
    "df_brute_force = df_Logins[(df_Logins[\"dia_num\"] > 21) & \n",
    "          (df_Logins[\"dia_num\"] < 27)]\n",
    "eje = df_brute_force.groupby(\"remip\").count().sort_values(\"logdesc\", ascending=False)[\"logdesc\"].head(10)\n",
    "plt.bar(eje.index, eje.values)\n",
    "plt.savefig(\"barra.pdf\")\n",
    "plt.show()"
   ]
  },
  {
   "cell_type": "code",
   "execution_count": 82,
   "id": "33b974b2",
   "metadata": {},
   "outputs": [
    {
     "data": {
      "text/plain": [
       "array([ 1,  1,  1, ..., 10, 12, 16])"
      ]
     },
     "execution_count": 82,
     "metadata": {},
     "output_type": "execute_result"
    }
   ],
   "source": [
    "eje.values"
   ]
  },
  {
   "cell_type": "code",
   "execution_count": null,
   "id": "9056cefc",
   "metadata": {},
   "outputs": [],
   "source": [
    "plt.bar(eje.index, eje.values)\n",
    "plt.savefig(\"barra.pdf\")\n",
    "plt.show()"
   ]
  },
  {
   "cell_type": "code",
   "execution_count": null,
   "id": "5c654700",
   "metadata": {},
   "outputs": [],
   "source": []
  }
 ],
 "metadata": {
  "kernelspec": {
   "display_name": "Python 3 (ipykernel)",
   "language": "python",
   "name": "python3"
  },
  "language_info": {
   "codemirror_mode": {
    "name": "ipython",
    "version": 3
   },
   "file_extension": ".py",
   "mimetype": "text/x-python",
   "name": "python",
   "nbconvert_exporter": "python",
   "pygments_lexer": "ipython3",
   "version": "3.8.10"
  }
 },
 "nbformat": 4,
 "nbformat_minor": 5
}
