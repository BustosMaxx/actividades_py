{
 "cells": [
  {
   "cell_type": "markdown",
   "id": "00c29f37",
   "metadata": {},
   "source": [
    "# ANÁLISIS DE ALERTA"
   ]
  },
  {
   "cell_type": "code",
   "execution_count": 1,
   "id": "b13d3480",
   "metadata": {},
   "outputs": [],
   "source": [
    "import pandas as pd\n",
    "import matplotlib.pyplot as plt\n",
    "\n",
    "df_logins = pd.read_csv(\"Logins_Fallidos.csv\") "
   ]
  },
  {
   "cell_type": "code",
   "execution_count": 2,
   "id": "0c4f7b09",
   "metadata": {},
   "outputs": [
    {
     "name": "stdout",
     "output_type": "stream",
     "text": [
      "                      _time          Servidor    vd   type subtype  \\\n",
      "0  Tue Aug 31 15:30:55 2021  FGT60E4Q16045068  root  event     vpn   \n",
      "1  Tue Aug 31 14:21:44 2021  FG10E1TB19900657  root  event     vpn   \n",
      "2  Tue Aug 31 12:18:51 2021  FG10E1TB19900657  root  event     vpn   \n",
      "3  Tue Aug 31 12:18:31 2021  FG10E1TB19900657  root  event     vpn   \n",
      "4  Tue Aug 31 12:16:37 2021  FG10E1TB19900657  root  event     vpn   \n",
      "\n",
      "           accion         devname            eventtime  level  \\\n",
      "0  ssl-login-fail         TJSM-BA           1630434653  alert   \n",
      "1  ssl-login-fail  CEPU_BA_FG10E1  1630430503940807968  alert   \n",
      "2  ssl-login-fail  CEPU_BA_FG10E1  1630423129365172184  alert   \n",
      "3  ssl-login-fail  CEPU_BA_FG10E1  1630423110737284913  alert   \n",
      "4  ssl-login-fail  CEPU_BA_FG10E1  1630422995366171961  alert   \n",
      "\n",
      "              logdesc                           msg  \\\n",
      "0  SSL VPN login fail  SSL user failed to logged in   \n",
      "1  SSL VPN login fail  SSL user failed to logged in   \n",
      "2  SSL VPN login fail  SSL user failed to logged in   \n",
      "3  SSL VPN login fail  SSL user failed to logged in   \n",
      "4  SSL VPN login fail  SSL user failed to logged in   \n",
      "\n",
      "                           reason            remip tunneltype            user  \n",
      "0  sslvpn_login_permission_denied   181.89.208.251    ssl-web        ddistasi  \n",
      "1  sslvpn_login_permission_denied    186.22.56.221    ssl-web        e.bramos  \n",
      "2  sslvpn_login_permission_denied  181.229.220.155    ssl-web      readymind2  \n",
      "3  sslvpn_login_permission_denied  181.229.220.155    ssl-web      readymind2  \n",
      "4  sslvpn_login_permission_denied  181.229.220.155    ssl-web  MAD\\readymind2  \n"
     ]
    }
   ],
   "source": [
    "print(df_logins.head())"
   ]
  },
  {
   "cell_type": "markdown",
   "id": "b936b433",
   "metadata": {},
   "source": [
    "### Parseo el formato de fecha en columnas distintas"
   ]
  },
  {
   "cell_type": "code",
   "execution_count": 3,
   "id": "1a25331e",
   "metadata": {},
   "outputs": [],
   "source": [
    "time = df_logins[\"_time\"].apply(str.split)\n",
    "lst_time = []\n",
    "for i in range(0,len(time)-1):\n",
    "    lst_time.append(time[i])\n",
    "    \n",
    "#Armo un dataframe con el datetime:\n",
    "df_time = pd.DataFrame(lst_time, columns = [\"dia_nombre\", \"mes_nombre\", \"dia_num\", \"hora\", \"año_num\"])\n"
   ]
  },
  {
   "cell_type": "code",
   "execution_count": 4,
   "id": "5174678d",
   "metadata": {},
   "outputs": [
    {
     "name": "stdout",
     "output_type": "stream",
     "text": [
      "  dia_nombre mes_nombre dia_num      hora año_num          Servidor    vd  \\\n",
      "0        Tue        Aug      31  15:30:55    2021  FGT60E4Q16045068  root   \n",
      "1        Tue        Aug      31  14:21:44    2021  FG10E1TB19900657  root   \n",
      "2        Tue        Aug      31  12:18:51    2021  FG10E1TB19900657  root   \n",
      "3        Tue        Aug      31  12:18:31    2021  FG10E1TB19900657  root   \n",
      "4        Tue        Aug      31  12:16:37    2021  FG10E1TB19900657  root   \n",
      "\n",
      "    type subtype          accion         devname            eventtime  level  \\\n",
      "0  event     vpn  ssl-login-fail         TJSM-BA           1630434653  alert   \n",
      "1  event     vpn  ssl-login-fail  CEPU_BA_FG10E1  1630430503940807968  alert   \n",
      "2  event     vpn  ssl-login-fail  CEPU_BA_FG10E1  1630423129365172184  alert   \n",
      "3  event     vpn  ssl-login-fail  CEPU_BA_FG10E1  1630423110737284913  alert   \n",
      "4  event     vpn  ssl-login-fail  CEPU_BA_FG10E1  1630422995366171961  alert   \n",
      "\n",
      "              logdesc                           msg  \\\n",
      "0  SSL VPN login fail  SSL user failed to logged in   \n",
      "1  SSL VPN login fail  SSL user failed to logged in   \n",
      "2  SSL VPN login fail  SSL user failed to logged in   \n",
      "3  SSL VPN login fail  SSL user failed to logged in   \n",
      "4  SSL VPN login fail  SSL user failed to logged in   \n",
      "\n",
      "                           reason            remip tunneltype            user  \n",
      "0  sslvpn_login_permission_denied   181.89.208.251    ssl-web        ddistasi  \n",
      "1  sslvpn_login_permission_denied    186.22.56.221    ssl-web        e.bramos  \n",
      "2  sslvpn_login_permission_denied  181.229.220.155    ssl-web      readymind2  \n",
      "3  sslvpn_login_permission_denied  181.229.220.155    ssl-web      readymind2  \n",
      "4  sslvpn_login_permission_denied  181.229.220.155    ssl-web  MAD\\readymind2  \n"
     ]
    }
   ],
   "source": [
    "#Concateno los dos dataframe:\n",
    "df_Logins =pd.concat([df_time,df_logins], axis = 1)\n",
    "#Elimino la columna del campo datetime, ya no la necesito:\n",
    "del df_Logins[\"_time\"]\n",
    "print(df_Logins.head())"
   ]
  },
  {
   "cell_type": "code",
   "execution_count": 5,
   "id": "717b72f2",
   "metadata": {},
   "outputs": [
    {
     "name": "stdout",
     "output_type": "stream",
     "text": [
      "11\n"
     ]
    }
   ],
   "source": [
    "y = df_Logins.groupby(\"dia_num\").count()[\"msg\"]\n",
    "print(y[0])"
   ]
  },
  {
   "cell_type": "code",
   "execution_count": 31,
   "id": "e8e47b70",
   "metadata": {},
   "outputs": [
    {
     "name": "stdout",
     "output_type": "stream",
     "text": [
      "     dia_nombre mes_nombre dia_num      hora año_num          Servidor    vd  \\\n",
      "0           Tue        Aug      31  15:30:55    2021  FGT60E4Q16045068  root   \n",
      "1           Tue        Aug      31  14:21:44    2021  FG10E1TB19900657  root   \n",
      "2           Tue        Aug      31  12:18:51    2021  FG10E1TB19900657  root   \n",
      "3           Tue        Aug      31  12:18:31    2021  FG10E1TB19900657  root   \n",
      "4           Tue        Aug      31  12:16:37    2021  FG10E1TB19900657  root   \n",
      "...         ...        ...     ...       ...     ...               ...   ...   \n",
      "7015        Mon        Aug       2  15:37:18    2021  FG10E1TB19900657  root   \n",
      "7016        Mon        Aug       2  15:19:31    2021  FG10E1TB19900657  root   \n",
      "7017        Mon        Aug       2  15:18:47    2021  FG10E1TB19900657  root   \n",
      "7018        Mon        Aug       2  11:15:46    2021  FG10E1TB19900657  root   \n",
      "7019        Mon        Aug       2  11:14:16    2021  FG10E1TB19900657  root   \n",
      "\n",
      "       type subtype          accion         devname            eventtime  \\\n",
      "0     event     vpn  ssl-login-fail         TJSM-BA           1630434653   \n",
      "1     event     vpn  ssl-login-fail  CEPU_BA_FG10E1  1630430503940807968   \n",
      "2     event     vpn  ssl-login-fail  CEPU_BA_FG10E1  1630423129365172184   \n",
      "3     event     vpn  ssl-login-fail  CEPU_BA_FG10E1  1630423110737284913   \n",
      "4     event     vpn  ssl-login-fail  CEPU_BA_FG10E1  1630422995366171961   \n",
      "...     ...     ...             ...             ...                  ...   \n",
      "7015  event     vpn  ssl-login-fail  CEPU_BA_FG10E1  1627929437101896818   \n",
      "7016  event     vpn  ssl-login-fail  CEPU_BA_FG10E1  1627928370138648691   \n",
      "7017  event     vpn  ssl-login-fail  CEPU_BA_FG10E1  1627928326356718968   \n",
      "7018  event     vpn  ssl-login-fail  CEPU_BA_FG10E1  1627913745444872938   \n",
      "7019  event     vpn  ssl-login-fail  CEPU_BA_FG10E1  1627913655596777148   \n",
      "\n",
      "      level             logdesc                           msg  \\\n",
      "0     alert  SSL VPN login fail  SSL user failed to logged in   \n",
      "1     alert  SSL VPN login fail  SSL user failed to logged in   \n",
      "2     alert  SSL VPN login fail  SSL user failed to logged in   \n",
      "3     alert  SSL VPN login fail  SSL user failed to logged in   \n",
      "4     alert  SSL VPN login fail  SSL user failed to logged in   \n",
      "...     ...                 ...                           ...   \n",
      "7015  alert  SSL VPN login fail  SSL user failed to logged in   \n",
      "7016  alert  SSL VPN login fail  SSL user failed to logged in   \n",
      "7017  alert  SSL VPN login fail  SSL user failed to logged in   \n",
      "7018  alert  SSL VPN login fail  SSL user failed to logged in   \n",
      "7019  alert  SSL VPN login fail  SSL user failed to logged in   \n",
      "\n",
      "                              reason            remip tunneltype  \\\n",
      "0     sslvpn_login_permission_denied   181.89.208.251    ssl-web   \n",
      "1     sslvpn_login_permission_denied    186.22.56.221    ssl-web   \n",
      "2     sslvpn_login_permission_denied  181.229.220.155    ssl-web   \n",
      "3     sslvpn_login_permission_denied  181.229.220.155    ssl-web   \n",
      "4     sslvpn_login_permission_denied  181.229.220.155    ssl-web   \n",
      "...                              ...              ...        ...   \n",
      "7015  sslvpn_login_permission_denied    186.18.53.154    ssl-web   \n",
      "7016  sslvpn_login_permission_denied  201.212.162.168    ssl-web   \n",
      "7017  sslvpn_login_permission_denied  201.212.162.168    ssl-web   \n",
      "7018  sslvpn_login_permission_denied     181.46.9.178    ssl-web   \n",
      "7019  sslvpn_login_permission_denied   186.22.146.163    ssl-web   \n",
      "\n",
      "                user  \n",
      "0           ddistasi  \n",
      "1           e.bramos  \n",
      "2         readymind2  \n",
      "3         readymind2  \n",
      "4     MAD\\readymind2  \n",
      "...              ...  \n",
      "7015    e.mcervantes  \n",
      "7016     MAD\\JSuarez  \n",
      "7017     MAD\\jsuarez  \n",
      "7018        rcoronel  \n",
      "7019      ReadyMind1  \n",
      "\n",
      "[7020 rows x 19 columns]\n"
     ]
    }
   ],
   "source": [
    "df_Logins = df_Logins.dropna(subset= [\"dia_num\"])\n",
    "print(df_Logins)"
   ]
  },
  {
   "cell_type": "code",
   "execution_count": 14,
   "id": "d7e2ffbe",
   "metadata": {},
   "outputs": [
    {
     "data": {
      "image/png": "[encoded data removed]",
      "text/plain": [
       "<Figure size 432x288 with 1 Axes>"
      ]
     },
     "metadata": {
      "needs_background": "light"
     },
     "output_type": "display_data"
    }
   ],
   "source": [
    "fig, ax = plt.subplots()\n",
    "df_Logins.plot(kind= \"hist\" ,x = \"dia_num\", ax = ax)\n",
    "plt.show()"
   ]
  },
  {
   "cell_type": "code",
   "execution_count": 43,
   "id": "f55043f4",
   "metadata": {},
   "outputs": [
    {
     "data": {
      "image/png": "[encoded data removed]",
      "text/plain": [
       "<Figure size 432x288 with 1 Axes>"
      ]
     },
     "metadata": {
      "needs_background": "light"
     },
     "output_type": "display_data"
    }
   ],
   "source": [
    "plt.hist(df_Logins[\"dia_num\"])\n",
    "plt.show()"
   ]
  },
  {
   "cell_type": "code",
   "execution_count": 63,
   "id": "d621b573",
   "metadata": {},
   "outputs": [
    {
     "data": {
      "image/png": "[encoded data removed]",
      "text/plain": [
       "<Figure size 432x288 with 1 Axes>"
      ]
     },
     "metadata": {
      "needs_background": "light"
     },
     "output_type": "display_data"
    }
   ],
   "source": [
    "plt.hist(df_Logins[\"dia_num\"], bins= 30, color='#F2AB6D', rwidth=0.8)   # rwidth es el ancho de las barras.\n",
    "                                                                        # 1 es el max y quedan pegadas\n",
    "plt.title('Histograma de eventos - matplotlib')\n",
    "plt.xlabel('Eventos x día')\n",
    "plt.ylabel('Frecuencia')\n",
    "#plt.xticks(intervalos)\n",
    "plt.show()"
   ]
  },
  {
   "cell_type": "code",
   "execution_count": 48,
   "id": "50cd1e64",
   "metadata": {},
   "outputs": [
    {
     "data": {
      "image/png": "[encoded data removed]",
      "text/plain": [
       "<Figure size 432x288 with 1 Axes>"
      ]
     },
     "metadata": {
      "needs_background": "light"
     },
     "output_type": "display_data"
    }
   ],
   "source": [
    "fig, ax1 = plt.subplots()\n",
    "df_Logins.plot('dia_num', kind = \"hist\", ax=ax1)\n",
    "plt.show()"
   ]
  },
  {
   "cell_type": "code",
   "execution_count": 39,
   "id": "00a7d41d",
   "metadata": {},
   "outputs": [
    {
     "data": {
      "text/plain": [
       "dia_nombre    object\n",
       "mes_nombre    object\n",
       "dia_num        int32\n",
       "hora          object\n",
       "año_num       object\n",
       "Servidor      object\n",
       "vd            object\n",
       "type          object\n",
       "subtype       object\n",
       "accion        object\n",
       "devname       object\n",
       "eventtime      int64\n",
       "level         object\n",
       "logdesc       object\n",
       "msg           object\n",
       "reason        object\n",
       "remip         object\n",
       "tunneltype    object\n",
       "user          object\n",
       "dtype: object"
      ]
     },
     "execution_count": 39,
     "metadata": {},
     "output_type": "execute_result"
    }
   ],
   "source": [
    "df_Logins.dtypes"
   ]
  },
  {
   "cell_type": "code",
   "execution_count": 36,
   "id": "0e9df93c",
   "metadata": {},
   "outputs": [],
   "source": [
    "df_Logins = df_Logins.astype({\"dia_num\": \"int\"})"
   ]
  },
  {
   "cell_type": "code",
   "execution_count": 32,
   "id": "fffb0c76",
   "metadata": {},
   "outputs": [
    {
     "data": {
      "text/plain": [
       "(7020, 19)"
      ]
     },
     "execution_count": 32,
     "metadata": {},
     "output_type": "execute_result"
    }
   ],
   "source": [
    "df_Logins.shape"
   ]
  },
  {
   "cell_type": "code",
   "execution_count": 41,
   "id": "583364e8",
   "metadata": {},
   "outputs": [
    {
     "data": {
      "text/plain": [
       "0       31\n",
       "1       31\n",
       "2       31\n",
       "3       31\n",
       "4       31\n",
       "        ..\n",
       "7015     2\n",
       "7016     2\n",
       "7017     2\n",
       "7018     2\n",
       "7019     2\n",
       "Name: dia_num, Length: 7020, dtype: int32"
      ]
     },
     "execution_count": 41,
     "metadata": {},
     "output_type": "execute_result"
    }
   ],
   "source": [
    "df_Logins.dia_num"
   ]
  },
  {
   "cell_type": "code",
   "execution_count": null,
   "id": "3f26c7c9",
   "metadata": {},
   "outputs": [],
   "source": []
  }
 ],
 "metadata": {
  "kernelspec": {
   "display_name": "Python 3",
   "language": "python",
   "name": "python3"
  },
  "language_info": {
   "codemirror_mode": {
    "name": "ipython",
    "version": 3
   },
   "file_extension": ".py",
   "mimetype": "text/x-python",
   "name": "python",
   "nbconvert_exporter": "python",
   "pygments_lexer": "ipython3",
   "version": "3.8.8"
  }
 },
 "nbformat": 4,
 "nbformat_minor": 5
}
