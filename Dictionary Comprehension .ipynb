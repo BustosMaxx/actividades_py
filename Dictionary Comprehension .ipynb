{
 "cells": [
  {
   "cell_type": "code",
   "execution_count": 1,
   "metadata": {},
   "outputs": [
    {
     "name": "stdout",
     "output_type": "stream",
     "text": [
      "{'Milk': 0.75, 'Meal': 10.69, 'Egs': 2.14, 'bread': 1.07}\n"
     ]
    }
   ],
   "source": [
    "dic_1 = {\"Milk\":0.75, \"Meal\":10.69, \"Egs\":2.14, \"bread\":1.07}\n",
    "print(dic_1)"
   ]
  },
  {
   "cell_type": "code",
   "execution_count": 3,
   "metadata": {},
   "outputs": [
    {
     "name": "stdout",
     "output_type": "stream",
     "text": [
      "dict_values([0.75, 10.69, 2.14, 1.07])\n",
      "dict_items([('Milk', 0.75), ('Meal', 10.69), ('Egs', 2.14), ('bread', 1.07)])\n",
      "dict_keys(['Milk', 'Meal', 'Egs', 'bread'])\n"
     ]
    }
   ],
   "source": [
    "print(dic_1.values())\n",
    "print(dic_1.items())\n",
    "print(dic_1.keys())"
   ]
  },
  {
   "cell_type": "code",
   "execution_count": 7,
   "metadata": {},
   "outputs": [],
   "source": [
    "dic_2 = {k:v*1.19 for (k,v) in dic_1.items() }"
   ]
  },
  {
   "cell_type": "code",
   "execution_count": 5,
   "metadata": {},
   "outputs": [
    {
     "name": "stdout",
     "output_type": "stream",
     "text": [
      "{'Milk': 0.75, 'Meal': 10.69, 'Egs': 2.14, 'bread': 1.07}\n"
     ]
    }
   ],
   "source": [
    "print(dic_1)"
   ]
  },
  {
   "cell_type": "code",
   "execution_count": 8,
   "metadata": {},
   "outputs": [
    {
     "name": "stdout",
     "output_type": "stream",
     "text": [
      "{'Milk': 0.8925, 'Meal': 12.721099999999998, 'Egs': 2.5466, 'bread': 1.2733}\n"
     ]
    }
   ],
   "source": [
    "print(dic_2)"
   ]
  },
  {
   "cell_type": "code",
   "execution_count": null,
   "metadata": {},
   "outputs": [],
   "source": []
  }
 ],
 "metadata": {
  "kernelspec": {
   "display_name": "Python 3",
   "language": "python",
   "name": "python3"
  },
  "language_info": {
   "codemirror_mode": {
    "name": "ipython",
    "version": 3
   },
   "file_extension": ".py",
   "mimetype": "text/x-python",
   "name": "python",
   "nbconvert_exporter": "python",
   "pygments_lexer": "ipython3",
   "version": "3.7.3"
  }
 },
 "nbformat": 4,
 "nbformat_minor": 2
}
